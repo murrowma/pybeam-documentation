{
 "cells": [
  {
   "cell_type": "markdown",
   "id": "3fae7b24",
   "metadata": {},
   "source": [
    "# Tutorial 1 - Models available in PyBEAM\n"
   ]
  },
  {
   "cell_type": "markdown",
   "id": "834c1042",
   "metadata": {},
   "source": [
    "In this tutorial, we introduce the models available in PyBEAM. In the following Tutorial 1x's, we disucss their usage in detail.\n",
    "\n",
    "If you have not done so already, install pybeam. To do this, follow the directions on the PyBEAM github. Once you have done this, import PyBEAM's precoded submodule.\n"
   ]
  },
  {
   "cell_type": "code",
   "execution_count": 1,
   "id": "cce883ad",
   "metadata": {
    "scrolled": false
   },
   "outputs": [],
   "source": [
    "# import PyBEAM's precoded submodule\n",
    "import pybeam.precoded as pbp\n"
   ]
  },
  {
   "cell_type": "markdown",
   "id": "8d41cbe3",
   "metadata": {},
   "source": [
    "Currently, six model types are implemented in PyBEAM: simpleDDM, DDM, leakage, moving_threholds, UGM, and UGM_flip. These are described in detail in the PyBEAM publication and the following Tutorial 1x notebooks. More model types will be added in the future to increase PyBEAM's functionality. Models are implemented in classes, which can be called from the PyBEAM precoded submodule. This is accomplished as follows:\n"
   ]
  },
  {
   "cell_type": "code",
   "execution_count": 2,
   "id": "37b0eac0",
   "metadata": {},
   "outputs": [],
   "source": [
    "# call simpleDDM model\n",
    "model_simpleDDM = pbp.simpleDDM()\n",
    "\n",
    "# call fullDDM model\n",
    "model_fullDDM = pbp.fullDDM()\n",
    "\n",
    "# call leakage model\n",
    "model_leakage = pbp.leakage()\n",
    "\n",
    "# call changing_thresholds model\n",
    "model_changing_thresholds = pbp.changing_thresholds()\n",
    "\n",
    "# call UGM model\n",
    "model_UGM = pbp.UGM()\n",
    "\n",
    "# call UGM_flip model\n",
    "model_UGM_flip = pbp.UGM_flip()\n"
   ]
  },
  {
   "cell_type": "markdown",
   "id": "16b4e4e9",
   "metadata": {},
   "source": [
    "See the remaining Tutorial 1 notebooks to learn how to use these models.\n"
   ]
  }
 ],
 "metadata": {
  "kernelspec": {
   "display_name": "pymc5_env",
   "language": "python",
   "name": "pymc5_env"
  },
  "language_info": {
   "codemirror_mode": {
    "name": "ipython",
    "version": 3
   },
   "file_extension": ".py",
   "mimetype": "text/x-python",
   "name": "python",
   "nbconvert_exporter": "python",
   "pygments_lexer": "ipython3",
   "version": "3.9.16"
  }
 },
 "nbformat": 4,
 "nbformat_minor": 5
}
