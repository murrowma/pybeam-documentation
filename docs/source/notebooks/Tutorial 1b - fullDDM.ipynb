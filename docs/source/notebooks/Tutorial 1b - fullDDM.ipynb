{
 "cells": [
  {
   "cell_type": "markdown",
   "id": "3fae7b24",
   "metadata": {},
   "source": [
    "# Tutorial 1b - fullDDM\n"
   ]
  },
  {
   "cell_type": "markdown",
   "id": "834c1042",
   "metadata": {},
   "source": [
    "In this tutorial, we introduce PyBEAM's fullDDM model and its usage. If you have not done so already, follow the directions on the PyBEAM github to install pybeam. Then, import PyBEAM's precoded submodule:\n"
   ]
  },
  {
   "cell_type": "code",
   "execution_count": 1,
   "id": "cce883ad",
   "metadata": {
    "scrolled": false
   },
   "outputs": [],
   "source": [
    "# import PyBEAM's precoded submodule\n",
    "import pybeam.precoded as pbp\n"
   ]
  },
  {
   "cell_type": "markdown",
   "id": "8d41cbe3",
   "metadata": {},
   "source": [
    "We will now call the precoded fullDDM.\n"
   ]
  },
  {
   "cell_type": "code",
   "execution_count": 2,
   "id": "9d028917",
   "metadata": {
    "scrolled": false
   },
   "outputs": [],
   "source": [
    "# call fullDDM model\n",
    "model = pbp.fullDDM()\n"
   ]
  },
  {
   "cell_type": "markdown",
   "id": "d8886456",
   "metadata": {},
   "source": [
    "The fullDDM() model class calls the full DDM model. This is a two threshold EAM with across-trial variability in the non-decision time, relative start point, and drift rate. It has constant decision thresholds. By default, the non-decision time distribution is normal with a truncation at zero so that no non-decision times end up beneath zero; the relative start point is a uniform distribution; and the drift rate is normally distributed;. The default parameters for it are as follows:\n",
    "\n",
    "    'tnd': non-decision time\n",
    "    'w': relative start point\n",
    "    'mu': drift rate\n",
    "    'b': decision threshold location (upper is at b, lower is\n",
    "         at -b; separation is 2b)\n",
    "    'sd_tnd': standard deviation of non-decision time\n",
    "              distribution (width of uniform distribution if\n",
    "              non_decision = 'uniform').\n",
    "    'sd_w': width of relative start distribution (standard \n",
    "            deviation of uniform distribution if\n",
    "            start = 'normal').\n",
    "    'sd_mu': standard deviation of drift rate distribution\n",
    "             (width of uniform distribution if\n",
    "             drift = 'uniform')\n",
    "\n",
    "If ever you are unsure what parameters a model uses, the following callout returns the model's parameters:\n"
   ]
  },
  {
   "cell_type": "code",
   "execution_count": 3,
   "id": "ce2b2a8d",
   "metadata": {
    "scrolled": false
   },
   "outputs": [
    {
     "data": {
      "text/plain": [
       "['tnd', 'w', 'mu', 'b', 'sd_tnd', 'sd_w', 'sd_mu']"
      ]
     },
     "execution_count": 3,
     "metadata": {},
     "output_type": "execute_result"
    }
   ],
   "source": [
    "# check which parameters your model uses\n",
    "model.parameters()\n"
   ]
  },
  {
   "cell_type": "markdown",
   "id": "cd8c2da7",
   "metadata": {},
   "source": [
    "Five inputs can be provided as arguments to the simpleDDM() class: sigma, contamination, non_decision, start, and drift. sigma allows the user to set the diffusion rate of the acccumulator. By default, sigma = 1.0. contamination indicates if a contamination model should be added to the model. By default, contamination = 'none', but it can also be contamination = 'uniform' if a uniform contamination distribution should be added. \n",
    "\n",
    "non_decision and start allow the user to add across-trial variability to the non-decision time and relative start points. By default, non_decision = 'normal', but can also be 'constant' or 'uniform'. 'normal' adds a normal non-decision distribution (truncated at zero to avoid non-decision times below zero); 'constant' give no non-decision distribution; and 'uniform' adds a uniform non-decision distribution. By default, start = 'uniform', but can also be 'constant' or 'normal'. 'uniform' adds a uniform relative start distribution; constant' gives no relative start distribution; and 'normal' adds a normal relative start distribution (truncated near 0 and 1 to prevent probability mass leaving the thresholds). By default, drift = 'normal', but can also be 'constant' or 'uniform'. 'normal' adds a normal non-decision distribution; 'uniform' adds a uniform non-decision distribution; and constant gives no start distribution.  These are used as follows:\n"
   ]
  },
  {
   "cell_type": "code",
   "execution_count": 4,
   "id": "0093c334",
   "metadata": {
    "scrolled": false
   },
   "outputs": [
    {
     "data": {
      "text/plain": [
       "['tnd', 'w', 'mu', 'b', 'sd_tnd', 'sd_w', 'sd_mu', 'g', 'gl', 'gu']"
      ]
     },
     "execution_count": 4,
     "metadata": {},
     "output_type": "execute_result"
    }
   ],
   "source": [
    "# call simpleDDM with user set sigma and contamination\n",
    "model = pbp.fullDDM(sigma = 1.0, \n",
    "            contamination = 'uniform',\n",
    "             non_decision = 'uniform',\n",
    "                    start = 'normal',\n",
    "                    drift = 'uniform')\n",
    "\n",
    "# output model parameters\n",
    "model.parameters()\n"
   ]
  },
  {
   "cell_type": "markdown",
   "id": "817d343c",
   "metadata": {},
   "source": [
    "Note that the model now has three additional/modified parameters These are:\n",
    "\n",
    "    'sd_tnd': width of uniform relative start distribution\n",
    "              (standard deviation of non-decision time\n",
    "              distribution if non_decision = 'normal').\n",
    "    'sd_w': standard deviation of uniform distribution \n",
    "            (width of relative start distribution if\n",
    "            start = 'uniform').\n",
    "    'sd_mu': width of uniform drift rate distribution\n",
    "              (standard deviation of drift rate\n",
    "              distribution if drift = 'normal').\n",
    "     'g': contamination strength (i.e. proportion of rt\n",
    "          distribution due to contamination model)\n",
    "    'gl': lower bound of uniform contamination distribution\n",
    "    'gu': upper bound of uniform contamination distribution\n",
    "    \n",
    "We have now finished our introduction to the fullDDM model! Proceed to Tutorial 2 to learn how to use your PyBEAM model.\n",
    "    "
   ]
  }
 ],
 "metadata": {
  "kernelspec": {
   "display_name": "pymc5_env",
   "language": "python",
   "name": "pymc5_env"
  },
  "language_info": {
   "codemirror_mode": {
    "name": "ipython",
    "version": 3
   },
   "file_extension": ".py",
   "mimetype": "text/x-python",
   "name": "python",
   "nbconvert_exporter": "python",
   "pygments_lexer": "ipython3",
   "version": "3.9.16"
  }
 },
 "nbformat": 4,
 "nbformat_minor": 5
}
