{
 "cells": [
  {
   "cell_type": "markdown",
   "id": "d7ff8cd1",
   "metadata": {},
   "source": [
    "# Tutorial 1c - leakage\n"
   ]
  },
  {
   "cell_type": "markdown",
   "id": "41bdbe43",
   "metadata": {},
   "source": [
    "In this tutorial, we introduce PyBEAM's leakage model and its usage. If you have not done so already, follow the directions on the PyBEAM github to install pybeam. Then, import PyBEAM's precoded submodule:\n"
   ]
  },
  {
   "cell_type": "code",
   "execution_count": 1,
   "id": "6e0939dd",
   "metadata": {},
   "outputs": [],
   "source": [
    "# import PyBEAM's precoded submodule\n",
    "import pybeam.precoded as pbp\n"
   ]
  },
  {
   "cell_type": "markdown",
   "id": "2fc90bff",
   "metadata": {},
   "source": [
    "We will now call the precoded simpleDDM.\n"
   ]
  },
  {
   "cell_type": "code",
   "execution_count": 2,
   "id": "d6b288fa",
   "metadata": {},
   "outputs": [],
   "source": [
    "# call leakage model\n",
    "model = pbp.leakage()\n"
   ]
  },
  {
   "cell_type": "markdown",
   "id": "f31707cf",
   "metadata": {},
   "source": [
    "The leakage() model class calls the leakage model. This is a two threshold EAM with constant non-decision time, constant relative start point, constant drift rate, constant decision thresholds, and leaky integration. The default parameters for it are as follows:\n",
    "\n",
    "    'tnd': non-decision time\n",
    "    'w': relative start point\n",
    "    'mu': drift rate\n",
    "    'l': rate of leaky integration\n",
    "    'b': decision threshold location (upper is at b, lower is\n",
    "         at -b; separation is 2b)\n",
    "\n",
    "If ever you are unsure what parameters a model uses, the following callout returns the model's parameters:\n"
   ]
  },
  {
   "cell_type": "code",
   "execution_count": 3,
   "id": "96a8be63",
   "metadata": {},
   "outputs": [
    {
     "data": {
      "text/plain": [
       "['tnd', 'w', 'mu', 'l', 'b']"
      ]
     },
     "execution_count": 3,
     "metadata": {},
     "output_type": "execute_result"
    }
   ],
   "source": [
    "# check which parameters your model uses\n",
    "model.parameters()\n"
   ]
  },
  {
   "cell_type": "markdown",
   "id": "f924b353",
   "metadata": {},
   "source": [
    "Four inputs can be provided as arguments to the leakage() class: sigma, contamination, non_decision, and start. sigma allows the user to set the diffusion rate of the acccumulator. By default, sigma = 1.0. contamination indicates if a contamination model should be added to the model. By default, contamination = 'none', but it can also be contamination = 'uniform' if a uniform contamination distribution should be added. \n",
    "\n",
    "non_decision and start allow the user to add across-trial variability to the non-decision time and relative start points. By default, non_decision = 'constant', but can also be 'uniform' or 'normal'. 'uniform' adds a uniform non-decision distribution, while 'normal' adds a normal non-decision distribution (truncated at zero to avoid non-decision times below zero). By default, start = 'constant', but can also be 'uniform' or 'normal'. 'uniform' adds a uniform relative start distribution, while 'normal' adds a normal relative start distribution (truncated near 0 and 1 to prevent probability mass leaving the thresholds). These are used as follows:\n"
   ]
  },
  {
   "cell_type": "code",
   "execution_count": 4,
   "id": "1e2f45f8",
   "metadata": {},
   "outputs": [
    {
     "data": {
      "text/plain": [
       "['tnd', 'w', 'mu', 'l', 'b', 'sd_tnd', 'sd_w', 'g', 'gl', 'gu']"
      ]
     },
     "execution_count": 4,
     "metadata": {},
     "output_type": "execute_result"
    }
   ],
   "source": [
    "# call leakage with user set sigma, contamination,\n",
    "# and across-trial variability\n",
    "model = pbp.leakage(sigma = 1.0, \n",
    "            contamination = 'uniform',\n",
    "             non_decision = 'normal',\n",
    "                    start = 'uniform')\n",
    "\n",
    "# output model parameters\n",
    "model.parameters()\n"
   ]
  },
  {
   "cell_type": "markdown",
   "id": "77ec6e97",
   "metadata": {},
   "source": [
    "Note that the model now has five additional parameters. These are:\n",
    "\n",
    "    'sd_tnd': standard deviation of non-decision time\n",
    "              distribution (width of uniform distribution if\n",
    "              non_decision = 'uniform').\n",
    "    'sd_w': width of relative start distribution (standard \n",
    "            deviation of uniform distribution if\n",
    "            start = 'normal').\n",
    "    'g': contamination strength (i.e. proportion of rt\n",
    "         distribution due to contamination model)\n",
    "    'gl': lower bound of uniform contamination distribution\n",
    "    'gu': upper bound of uniform contamination distribution\n",
    "    \n",
    "We have now finished our introduction to the leakage model! Proceed to Tutorial 2 to learn how to use your PyBEAM model.\n",
    "    "
   ]
  }
 ],
 "metadata": {
  "kernelspec": {
   "display_name": "pymc5_env",
   "language": "python",
   "name": "pymc5_env"
  },
  "language_info": {
   "codemirror_mode": {
    "name": "ipython",
    "version": 3
   },
   "file_extension": ".py",
   "mimetype": "text/x-python",
   "name": "python",
   "nbconvert_exporter": "python",
   "pygments_lexer": "ipython3",
   "version": "3.9.16"
  }
 },
 "nbformat": 4,
 "nbformat_minor": 5
}
