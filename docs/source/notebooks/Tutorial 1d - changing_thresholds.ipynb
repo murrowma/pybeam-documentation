{
 "cells": [
  {
   "cell_type": "markdown",
   "id": "3fae7b24",
   "metadata": {},
   "source": [
    "# Tutorial 1d - changing_thresholds\n"
   ]
  },
  {
   "cell_type": "markdown",
   "id": "834c1042",
   "metadata": {},
   "source": [
    "In this tutorial, we introduce PyBEAM's changing_thresholds model and its usage. If you have not done so already, follow the directions on the PyBEAM github to install pybeam. Then, import PyBEAM's precoded submodule:\n"
   ]
  },
  {
   "cell_type": "code",
   "execution_count": 1,
   "id": "cce883ad",
   "metadata": {
    "scrolled": false
   },
   "outputs": [],
   "source": [
    "# import PyBEAM's precoded submodule\n",
    "import pybeam.precoded as pbp\n"
   ]
  },
  {
   "cell_type": "markdown",
   "id": "8d41cbe3",
   "metadata": {},
   "source": [
    "We will now call the precoded changing_thresholds model.\n"
   ]
  },
  {
   "cell_type": "code",
   "execution_count": 2,
   "id": "9d028917",
   "metadata": {},
   "outputs": [],
   "source": [
    "# call changing_thresholds model\n",
    "model = pbp.changing_thresholds()\n"
   ]
  },
  {
   "cell_type": "markdown",
   "id": "d8886456",
   "metadata": {},
   "source": [
    "The changing_thresholds() model class calls the changing thresholds model. This is a two threshold EAM with constant non-decision time, constant relative start point, constant drift rate, and time varying decision thresholds. The default threshold is a Weibull function, giving the following default parameters:\n",
    "\n",
    "    'tnd': non-decision time\n",
    "    'w': relative start point\n",
    "    'mu': drift rate\n",
    "    'b': decision threshold location at time zero (upper is at b, lower is\n",
    "         at -b; initial separation is 2b)\n",
    "    'lamb': log10 of Weibull scale parameter\n",
    "    'kappa': log10 Weibull shape parameter\n",
    "    'c': Weibull collapse parameter\n",
    "    \n",
    "The scale parameter, 'lamb', approximately indicates when/how early threshold collapse occurs. The shape parameter, 'kappa', indicates the threshold shape. Both of these are input as the log10 of the actual parameter (useful for sampling purposes). If below one, the threshold is exponential like; if above one, the threshold is logistic like. The collapse parameter, 'c', indicates how much the thresholds collapse. If c = -1, the thresholds collpase to zero; if c = 1, no collapse occurs; if c > 1, thresholds expand above b. The equation is\n",
    "\n",
    "    upper threshold = -lower threshold = b - 0.5*b*(1 - c)*(1 - exp(-(t/(10^lamb))^(10^kappa))))\n",
    "\n",
    "If ever you are unsure what parameters a model uses, the following callout returns the model's parameters:\n"
   ]
  },
  {
   "cell_type": "code",
   "execution_count": 3,
   "id": "ce2b2a8d",
   "metadata": {},
   "outputs": [
    {
     "data": {
      "text/plain": [
       "['tnd', 'w', 'mu', 'b', 'lamb', 'kappa', 'c']"
      ]
     },
     "execution_count": 3,
     "metadata": {},
     "output_type": "execute_result"
    }
   ],
   "source": [
    "# check which parameters your model uses\n",
    "model.parameters()\n"
   ]
  },
  {
   "cell_type": "markdown",
   "id": "cd8c2da7",
   "metadata": {},
   "source": [
    "Five inputs can be provided as arguments to the changing_thresholds() class: sigma, contamination, thresholds, non_decision, and start. sigma allows the user to set the diffusion rate of the acccumulator. By default, sigma = 1.0. contamination indicates if a contamination model should be added to the model. By default, contamination = 'none', but it can also be contamination = 'uniform' if a uniform contamination distribution should be added. \n",
    "\n",
    "non_decision and start allow the user to add across-trial variability to the non-decision time and relative start points. By default, non_decision = 'constant', but can also be 'uniform' or 'normal'. 'uniform' adds a uniform non-decision distribution, while 'normal' adds a normal non-decision distribution (truncated at zero to avoid non-decision times below zero). By default, start = 'constant', but can also be 'uniform' or 'normal'. 'uniform' adds a uniform relative start distribution, while 'normal' adds a normal relative start distribution (truncated near 0 and 1 to prevent probability mass leaving the thresholds). These are used as follows:\n"
   ]
  },
  {
   "cell_type": "code",
   "execution_count": 4,
   "id": "0093c334",
   "metadata": {},
   "outputs": [
    {
     "data": {
      "text/plain": [
       "['tnd',\n",
       " 'w',\n",
       " 'mu',\n",
       " 'b',\n",
       " 'lamb',\n",
       " 'kappa',\n",
       " 'c',\n",
       " 'sd_tnd',\n",
       " 'sd_w',\n",
       " 'g',\n",
       " 'gl',\n",
       " 'gu']"
      ]
     },
     "execution_count": 4,
     "metadata": {},
     "output_type": "execute_result"
    }
   ],
   "source": [
    "# call changing_thresholds with user set sigma, contamination,\n",
    "# and across-trial variability\n",
    "model = pbp.changing_thresholds(sigma = 1.0, \n",
    "                      contamination = 'uniform',\n",
    "                      non_decision = 'normal',\n",
    "                      start = 'uniform')\n",
    "\n",
    "# output model parameters\n",
    "model.parameters()\n"
   ]
  },
  {
   "cell_type": "markdown",
   "id": "817d343c",
   "metadata": {},
   "source": [
    "Note that the model now has five additional parameters. These are:\n",
    "\n",
    "    'sd_tnd': standard deviation of non-decision time\n",
    "              distribution (width of uniform distribution if\n",
    "              non_decision = 'uniform').\n",
    "    'sd_w': width of relative start distribution (standard \n",
    "            deviation of uniform distribution if\n",
    "            start = 'normal').\n",
    "    'g': contamination strength (i.e. proportion of rt\n",
    "         distribution due to contamination model)\n",
    "    'gl': lower bound of uniform contamination distribution\n",
    "    'gu': upper bound of uniform contamination distribution\n",
    "    \n",
    "The remaining optional input, thresholds, allows the user to change which changing thresholds they are using. The default is 'weibull', but other inputs include 'linear' and 'exponential'. If 'linear' is chosen, linear thresholds are used, giving the following threshold parameter:\n",
    "\n",
    "    'm': slope of linear thresholds (positive give collapse, negative gives expansion. equation is\n",
    "         upper threshold = -lower threshold = b - mt).\n",
    "         \n",
    "If 'exponential' is chosen, exponential thresholds are used, giving the following threshold parameter:\n",
    "\n",
    "    'tau': log10 of rate of exponential threshold collapse \n",
    "    (upper threshold = -lower threshold = b*exp(-t/ (10^tau) ) )\n",
    "    \n",
    "Note that, as for the Weibull model, we input tau as the log10 of the actual parameter.\n",
    "    \n",
    "We have now finished our introduction to the changing_thresholds model! Proceed to Tutorial 2 to learn how to use your PyBEAM model.\n",
    "    "
   ]
  }
 ],
 "metadata": {
  "kernelspec": {
   "display_name": "pymc5_env",
   "language": "python",
   "name": "pymc5_env"
  },
  "language_info": {
   "codemirror_mode": {
    "name": "ipython",
    "version": 3
   },
   "file_extension": ".py",
   "mimetype": "text/x-python",
   "name": "python",
   "nbconvert_exporter": "python",
   "pygments_lexer": "ipython3",
   "version": "3.9.16"
  }
 },
 "nbformat": 4,
 "nbformat_minor": 5
}
