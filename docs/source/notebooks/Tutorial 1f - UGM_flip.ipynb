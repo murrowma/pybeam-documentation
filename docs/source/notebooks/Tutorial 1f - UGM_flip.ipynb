{
 "cells": [
  {
   "cell_type": "markdown",
   "id": "3fae7b24",
   "metadata": {},
   "source": [
    "# Tutorial 1f - UGM_flip\n"
   ]
  },
  {
   "cell_type": "markdown",
   "id": "834c1042",
   "metadata": {},
   "source": [
    "In this tutorial, we introduce PyBEAM's UGM_flip (urgency gating model with the drift rate allowed to flip partway through the trial) model and its usage. If you have not done so already, follow the directions on the PyBEAM github to install pybeam. Then, import PyBEAM's precoded submodule:\n"
   ]
  },
  {
   "cell_type": "code",
   "execution_count": 1,
   "id": "cce883ad",
   "metadata": {
    "scrolled": false
   },
   "outputs": [],
   "source": [
    "# import PyBEAM's precoded submodule\n",
    "import pybeam.precoded as pbp\n"
   ]
  },
  {
   "cell_type": "markdown",
   "id": "8d41cbe3",
   "metadata": {},
   "source": [
    "We will now call the precoded UGM_flip.\n"
   ]
  },
  {
   "cell_type": "code",
   "execution_count": 2,
   "id": "9d028917",
   "metadata": {},
   "outputs": [],
   "source": [
    "# call UGM_flip model\n",
    "model = pbp.UGM_flip()\n"
   ]
  },
  {
   "cell_type": "markdown",
   "id": "d8886456",
   "metadata": {},
   "source": [
    "The UGM_flip() model class calls the UGM_flip model. This is a two threshold EAM with constant non-decision time, constant relative start point, and constant decision thresholds. The drift rate and diffusion rate change with the time and/or spatial coordinate. The default parameters for it are as follows:\n",
    "\n",
    "    'tnd': non-decision time\n",
    "    'w': relative start point\n",
    "    'mu': drift rate\n",
    "    'l': leakage rate\n",
    "    'k': urgency parameter\n",
    "    't_flip': time when mu changes sign\n",
    "    'b': decision threshold location (upper is at b, lower is\n",
    "         at -b; separation is 2b)\n",
    "         \n",
    "The drift rate is:\n",
    "\n",
    "    if (t < t_flip):\n",
    "        drift = mu*(1.0 + k*t) - (l - k/(1.0 + k*t) )*x\n",
    "    elif (t >= t_flip):\n",
    "        drift = -mu*(1.0 + k*t) - (l - k/(1.0 + k*t) )*x\n",
    "    \n",
    "where x is the spatial coordinate and t is the time coordinate.\n",
    "\n",
    "The diffusion rate is:\n",
    "\n",
    "    diffusion = sigma*(1.0 + k*t)\n",
    "\n",
    "where sigma is the scale parameter (discussed below) and t is the time coordinate.\n",
    "\n",
    "\n",
    "If ever you are unsure what parameters a model uses, the following callout returns the model's parameters:\n"
   ]
  },
  {
   "cell_type": "code",
   "execution_count": 3,
   "id": "ce2b2a8d",
   "metadata": {},
   "outputs": [
    {
     "data": {
      "text/plain": [
       "['tnd', 'w', 'mu', 'l', 'k', 't_flip', 'b']"
      ]
     },
     "execution_count": 3,
     "metadata": {},
     "output_type": "execute_result"
    }
   ],
   "source": [
    "# check which parameters your model uses\n",
    "model.parameters()\n"
   ]
  },
  {
   "cell_type": "markdown",
   "id": "cd8c2da7",
   "metadata": {},
   "source": [
    "Four inputs can be provided as arguments to the UGM() class: sigma, contamination, non_decision, and start. sigma allows the user to set the scale parameter of the acccumulator. By default, sigma = 1.0. contamination indicates if a contamination model should be added to the model. By default, contamination = 'none', but it can also be contamination = 'uniform' if a uniform contamination distribution should be added. \n",
    "\n",
    "non_decision and start allow the user to add across-trial variability to the non-decision time and relative start points. By default, non_decision = 'constant', but can also be 'uniform' or 'normal'. 'uniform' adds a uniform non-decision distribution, while 'normal' adds a normal non-decision distribution (truncated at zero to avoid non-decision times below zero). By default, start = 'constant', but can also be 'uniform' or 'normal'. 'uniform' adds a uniform relative start distribution, while 'normal' adds a normal relative start distribution (truncated near 0 and 1 to prevent probability mass leaving the thresholds). These are used as follows:\n"
   ]
  },
  {
   "cell_type": "code",
   "execution_count": 4,
   "id": "0093c334",
   "metadata": {},
   "outputs": [
    {
     "data": {
      "text/plain": [
       "['tnd', 'w', 'mu', 'l', 'k', 't_flip', 'b', 'sd_tnd', 'sd_w', 'g', 'gl', 'gu']"
      ]
     },
     "execution_count": 4,
     "metadata": {},
     "output_type": "execute_result"
    }
   ],
   "source": [
    "# call UGM_flip with user set sigma, contamination,\n",
    "# and across-trial variability\n",
    "model = pbp.UGM_flip(sigma = 1.0, \n",
    "                     contamination = 'uniform',\n",
    "                     non_decision = 'normal',\n",
    "                     start = 'uniform')\n",
    "\n",
    "# output model parameters\n",
    "model.parameters()\n"
   ]
  },
  {
   "cell_type": "markdown",
   "id": "817d343c",
   "metadata": {},
   "source": [
    "Note that the model now has five additional parameters. These are:\n",
    "\n",
    "    'sd_tnd': standard deviation of non-decision time\n",
    "              distribution (width of uniform distribution if\n",
    "              non_decision = 'uniform').\n",
    "    'sd_w': width of relative start distribution (standard \n",
    "            deviation of uniform distribution if\n",
    "            start = 'normal').\n",
    "    'g': contamination strength (i.e. proportion of rt\n",
    "         distribution due to contamination model)\n",
    "    'gl': lower bound of uniform contamination distribution\n",
    "    'gu': upper bound of uniform contamination distribution\n",
    "    \n",
    "We have now finished our introduction to the UGM_flip model! Proceed to Tutorial 2 to learn how to use your PyBEAM model.\n",
    "    "
   ]
  }
 ],
 "metadata": {
  "kernelspec": {
   "display_name": "pymc5_env",
   "language": "python",
   "name": "pymc5_env"
  },
  "language_info": {
   "codemirror_mode": {
    "name": "ipython",
    "version": 3
   },
   "file_extension": ".py",
   "mimetype": "text/x-python",
   "name": "python",
   "nbconvert_exporter": "python",
   "pygments_lexer": "ipython3",
   "version": "3.9.16"
  }
 },
 "nbformat": 4,
 "nbformat_minor": 5
}
